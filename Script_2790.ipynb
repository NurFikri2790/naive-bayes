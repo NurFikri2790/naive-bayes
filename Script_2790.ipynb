{
  "nbformat": 4,
  "nbformat_minor": 0,
  "metadata": {
    "colab": {
      "name": "Prediksi Diagnostik Kanker Payudara.ipynb",
      "provenance": [],
      "collapsed_sections": []
    },
    "kernelspec": {
      "name": "python3",
      "display_name": "Python 3"
    },
    "language_info": {
      "name": "python"
    }
  },
  "cells": [
    {
      "cell_type": "markdown",
      "source": [
        "Importing The Scikit-learn Module"
      ],
      "metadata": {
        "id": "IKY0f1Zf31AR"
      }
    },
    {
      "cell_type": "code",
      "source": [
        "import sklearn"
      ],
      "metadata": {
        "id": "ty5mXCHM1gtg"
      },
      "execution_count": 8,
      "outputs": []
    },
    {
      "cell_type": "markdown",
      "source": [
        "Importing The Dataset"
      ],
      "metadata": {
        "id": "BCCvQe8L396n"
      }
    },
    {
      "cell_type": "code",
      "execution_count": 9,
      "metadata": {
        "id": "_P1OiV3X1XhX"
      },
      "outputs": [],
      "source": [
        "import io\n",
        "df = pd.read_csv('breast cancer.csv')"
      ]
    },
    {
      "cell_type": "code",
      "source": [
        "from sklearn.datasets import load_breast_cancer"
      ],
      "metadata": {
        "id": "HszAxsJp3bC3"
      },
      "execution_count": 10,
      "outputs": []
    },
    {
      "cell_type": "code",
      "source": [
        "# Loading our dataset\n",
        "data = load_breast_cancer()"
      ],
      "metadata": {
        "id": "_pmavLQU3iYf"
      },
      "execution_count": 11,
      "outputs": []
    },
    {
      "cell_type": "code",
      "source": [
        "# Organising our dataset\n",
        "label_names = data['target_names']\n",
        "labels = data['target']\n",
        "feature_names = data['feature_names']\n",
        "features = data['data']"
      ],
      "metadata": {
        "id": "Qz6jqrXc3jHY"
      },
      "execution_count": 12,
      "outputs": []
    },
    {
      "cell_type": "code",
      "source": [
        "# Looking at our data\n",
        "print(label_names)\n",
        "print(labels[0])\n",
        "print(feature_names[0])\n",
        "print(features[0])"
      ],
      "metadata": {
        "colab": {
          "base_uri": "https://localhost:8080/"
        },
        "id": "lOmy4R_G3jJm",
        "outputId": "4e863cde-540a-4110-d53d-9905dd03365e"
      },
      "execution_count": 13,
      "outputs": [
        {
          "output_type": "stream",
          "name": "stdout",
          "text": [
            "['malignant' 'benign']\n",
            "0\n",
            "mean radius\n",
            "[1.799e+01 1.038e+01 1.228e+02 1.001e+03 1.184e-01 2.776e-01 3.001e-01\n",
            " 1.471e-01 2.419e-01 7.871e-02 1.095e+00 9.053e-01 8.589e+00 1.534e+02\n",
            " 6.399e-03 4.904e-02 5.373e-02 1.587e-02 3.003e-02 6.193e-03 2.538e+01\n",
            " 1.733e+01 1.846e+02 2.019e+03 1.622e-01 6.656e-01 7.119e-01 2.654e-01\n",
            " 4.601e-01 1.189e-01]\n"
          ]
        }
      ]
    },
    {
      "cell_type": "markdown",
      "source": [
        "Spliting The Dataset"
      ],
      "metadata": {
        "id": "g7DRkC_u4EjX"
      }
    },
    {
      "cell_type": "code",
      "source": [
        "from sklearn.model_selection import train_test_split"
      ],
      "metadata": {
        "id": "L-a1a2aN3jL6"
      },
      "execution_count": 14,
      "outputs": []
    },
    {
      "cell_type": "code",
      "source": [
        "# Spliting our dataset into 2 parts for training and testing\n",
        "train, test, train_labels, test_labels = train_test_split(features,labels,test_size=0.2,random_state=40)"
      ],
      "metadata": {
        "id": "hPGJVGRe3jOR"
      },
      "execution_count": 15,
      "outputs": []
    },
    {
      "cell_type": "markdown",
      "source": [
        "Training Model"
      ],
      "metadata": {
        "id": "WSPP4epL4HPv"
      }
    },
    {
      "cell_type": "code",
      "source": [
        "from sklearn.naive_bayes import GaussianNB"
      ],
      "metadata": {
        "id": "8ef1L_nL3ow4"
      },
      "execution_count": 16,
      "outputs": []
    },
    {
      "cell_type": "code",
      "source": [
        "# Initialising our Classifier\n",
        "classifier = GaussianNB()"
      ],
      "metadata": {
        "id": "OKKJsf6d3o_e"
      },
      "execution_count": 17,
      "outputs": []
    },
    {
      "cell_type": "code",
      "source": [
        "# Training our Classifier\n",
        "model = classifier.fit(train,train_labels)"
      ],
      "metadata": {
        "id": "QBe4Tsct3jQa"
      },
      "execution_count": 18,
      "outputs": []
    },
    {
      "cell_type": "code",
      "source": [
        "pred = classifier.predict(test)"
      ],
      "metadata": {
        "id": "U9gY8htn3r2v"
      },
      "execution_count": 19,
      "outputs": []
    },
    {
      "cell_type": "code",
      "source": [
        "print(pred)"
      ],
      "metadata": {
        "colab": {
          "base_uri": "https://localhost:8080/"
        },
        "id": "X6fakmro3r4_",
        "outputId": "73dd1cef-203c-4fee-8b61-0c8165e96f18"
      },
      "execution_count": 20,
      "outputs": [
        {
          "output_type": "stream",
          "name": "stdout",
          "text": [
            "[1 0 1 1 0 1 1 1 0 1 0 1 1 1 0 1 1 1 1 1 1 0 1 0 0 0 0 0 1 1 1 0 0 1 1 1 1\n",
            " 0 1 1 0 1 1 1 0 0 1 1 0 1 0 1 1 1 1 1 0 0 0 1 1 0 1 1 1 0 0 0 1 1 1 0 0 1\n",
            " 0 0 0 1 1 1 1 1 0 1 0 1 0 0 1 0 1 1 1 1 1 0 1 1 1 1 1 1 1 0 1 1 1 0 1 1 1\n",
            " 1 0 1]\n"
          ]
        }
      ]
    },
    {
      "cell_type": "markdown",
      "source": [
        "Testing Model"
      ],
      "metadata": {
        "id": "8mPofokN4nEC"
      }
    },
    {
      "cell_type": "code",
      "source": [
        "from sklearn.metrics import accuracy_score"
      ],
      "metadata": {
        "id": "1F9FlK953r7W"
      },
      "execution_count": 21,
      "outputs": []
    },
    {
      "cell_type": "code",
      "source": [
        "# Calculating the Accuracy of our Model\n",
        "print(\"Accuracy of our Model :\", accuracy_score(test_labels,pred))"
      ],
      "metadata": {
        "colab": {
          "base_uri": "https://localhost:8080/"
        },
        "id": "Vvs7wFLP3uiO",
        "outputId": "47aa01f9-e4a5-4833-f74a-eff8dbe45771"
      },
      "execution_count": 22,
      "outputs": [
        {
          "output_type": "stream",
          "name": "stdout",
          "text": [
            "Accuracy of our Model : 0.9736842105263158\n"
          ]
        }
      ]
    },
    {
      "cell_type": "markdown",
      "source": [
        "Kesimpulan : \n",
        "\n",
        "Hasil Pengklasifian Naive Bayes adalah 97,36% akurat. Ini mengindikasikan bahwa ini mampu membuat prediksi yang benar, apakah tumor ganas atau jinak"
      ],
      "metadata": {
        "id": "zsIslJu-4o5u"
      }
    }
  ]
}